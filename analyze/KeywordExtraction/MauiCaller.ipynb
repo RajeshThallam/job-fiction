{
 "cells": [
  {
   "cell_type": "code",
   "execution_count": 14,
   "metadata": {
    "collapsed": true
   },
   "outputs": [],
   "source": [
    "import re"
   ]
  },
  {
   "cell_type": "code",
   "execution_count": 4,
   "metadata": {
    "collapsed": false,
    "scrolled": true
   },
   "outputs": [],
   "source": [
    "from subprocess import Popen, PIPE, STDOUT\n",
    "p = Popen([\"java\", \"-jar\", \"-Xmx1024m\", \"maui-standalone-1.1-SNAPSHOT.jar\", \n",
    "         \"train\", \"-l\",\"data/jobscan/train\", \"-m\",\"data/models/keyword_extraction_model_Steph2\",\"-v\",\"ACMTaxonomySkosExtended2.rdf\",\"-f\",\"skos\",\"-o\",\"1\"], stdout=PIPE, stderr=STDOUT)\n",
    "#for line in p.stdout:\n",
    " #   print line"
   ]
  },
  {
   "cell_type": "code",
   "execution_count": 5,
   "metadata": {
    "collapsed": false
   },
   "outputs": [
    {
     "name": "stdout",
     "output_type": "stream",
     "text": [
      "/Users/steph/Google Drive/MIDS/Capstone/JobFictionLocal/job-fiction/analyze/Keyword Extraction\r\n"
     ]
    }
   ],
   "source": [
    "!pwd"
   ]
  },
  {
   "cell_type": "code",
   "execution_count": 2,
   "metadata": {
    "collapsed": false,
    "scrolled": true
   },
   "outputs": [
    {
     "name": "stdout",
     "output_type": "stream",
     "text": [
      "08 Apr 2016 15:15:59  INFO MauiTopicExtractor - Extracting keyphrases with options: \n",
      "\n",
      "08 Apr 2016 15:15:59  INFO MauiTopicExtractor - -l data/jobscanManualClean/test -m data/models/keyword_extraction_model_Steph2 -v ACMTaxonomySkosExtended2.rdf -f skos -e default -i en -n 30 -c 0.0 -t com.entopix.maui.stemmers.PorterStemmer -s com.entopix.maui.stopwords.StopwordsEnglish   \n",
      "\n",
      "08 Apr 2016 15:15:59  INFO MauiTopicExtractor - -- Loading the model... \n",
      "\n",
      "08 Apr 2016 15:15:59  INFO MauiTopicExtractor - --- Loading the vocabulary...\n",
      "\n",
      "08 Apr 2016 15:16:05 ERROR MauiTopicExtractor - Error running MauiTopicExtractor..\n",
      "\n",
      "\tat com.entopix.maui.main.MauiTopicExtractor.loadDocuments(MauiTopicExtractor.java:456)\n",
      "\n",
      "\tat com.entopix.maui.main.MauiTopicExtractor.main(MauiTopicExtractor.java:642)\n",
      "\n",
      "08 Apr 2016 15:16:05 ERROR MauiTopicExtractor - \n",
      "\n",
      "08 Apr 2016 15:16:05 ERROR MauiTopicExtractor - \n",
      "\n",
      "08 Apr 2016 15:16:05 ERROR MauiTopicExtractor - -l <directory name>\n",
      "\n",
      "08 Apr 2016 15:16:05 ERROR MauiTopicExtractor - \tSpecifies name of directory.\n",
      "\n",
      "08 Apr 2016 15:16:05 ERROR MauiTopicExtractor - -m <model name>\n",
      "\n",
      "08 Apr 2016 15:16:05 ERROR MauiTopicExtractor - \tSpecifies name of model.\n",
      "\n",
      "08 Apr 2016 15:16:05 ERROR MauiTopicExtractor - -v <vocabulary name>\n",
      "\n",
      "08 Apr 2016 15:16:05 ERROR MauiTopicExtractor - \tSpecifies vocabulary name.\n",
      "\n",
      "08 Apr 2016 15:16:05 ERROR MauiTopicExtractor - -f <vocabulary format>\n",
      "\n",
      "08 Apr 2016 15:16:05 ERROR MauiTopicExtractor - \tSpecifies vocabulary format.\n",
      "\n",
      "08 Apr 2016 15:16:05 ERROR MauiTopicExtractor - -e <encoding>\n",
      "\n",
      "08 Apr 2016 15:16:05 ERROR MauiTopicExtractor - \tSpecifies encoding.\n",
      "\n",
      "08 Apr 2016 15:16:05 ERROR MauiTopicExtractor - -i <document language>\n",
      "\n",
      "08 Apr 2016 15:16:05 ERROR MauiTopicExtractor - \tSpecifies document language (en (default), es, de, fr).\n",
      "\n",
      "08 Apr 2016 15:16:05 ERROR MauiTopicExtractor - -n\n",
      "\n",
      "08 Apr 2016 15:16:05 ERROR MauiTopicExtractor - \tSpecifies number of phrases to be output (default: 5).\n",
      "\n",
      "08 Apr 2016 15:16:05 ERROR MauiTopicExtractor - -c\n",
      "\n",
      "08 Apr 2016 15:16:05 ERROR MauiTopicExtractor - \tSpecifies cut off probability for each topic (default: 0.0).\n",
      "\n",
      "08 Apr 2016 15:16:05 ERROR MauiTopicExtractor - -t <name of stemmer class>\n",
      "\n",
      "08 Apr 2016 15:16:05 ERROR MauiTopicExtractor - \tSet the stemmer to use (default: SremovalStemmer).\n",
      "\n",
      "08 Apr 2016 15:16:05 ERROR MauiTopicExtractor - -s <name of stopwords class>\n",
      "\n",
      "08 Apr 2016 15:16:05 ERROR MauiTopicExtractor - \tSet the stopwords class to use (default: EnglishStopwords).\n",
      "\n",
      "08 Apr 2016 15:16:05 ERROR MauiTopicExtractor - -s\n",
      "\n",
      "08 Apr 2016 15:16:05 ERROR MauiTopicExtractor - \tTurns serialization on.\n",
      "\n",
      "08 Apr 2016 15:16:05 ERROR MauiTopicExtractor - -b\n",
      "\n",
      "08 Apr 2016 15:16:05 ERROR MauiTopicExtractor - \tBuilds global dictionaries for computing TFIDF from the test collection.\n",
      "\n",
      "08 Apr 2016 15:16:05 ERROR MauiTopicExtractor - -a\n",
      "\n",
      "08 Apr 2016 15:16:05 ERROR MauiTopicExtractor - \tAlso write stemmed phrase and score into \".key\" file.\n",
      "\n"
     ]
    }
   ],
   "source": [
    "from subprocess import Popen, PIPE, STDOUT\n",
    "import re\n",
    "p = Popen([\"java\", \"-jar\", \"-Xmx1024m\", \"maui-standalone-1.1-SNAPSHOT.jar\", \n",
    "           \"test\", \"-l\",\"data/jobscanManualClean/test\", \"-m\",\"data/models/keyword_extraction_model_Steph2\",\n",
    "           \"-v\",\"ACMTaxonomySkosExtended2.rdf\",\"-f\",\"skos\",\"-n\",\"30\"], stdout=PIPE, stderr=STDOUT)\n",
    "for line in p.stdout:\n",
    "    if line.find(\"MauiTopicExtractor\")<>-1:\n",
    "           print line"
   ]
  },
  {
   "cell_type": "code",
   "execution_count": 47,
   "metadata": {
    "collapsed": false
   },
   "outputs": [],
   "source": [
    "from subprocess import Popen, PIPE, STDOUT\n",
    "import re\n",
    "p = Popen([\"java\", \"-jar\", \"-Xmx1024m\", \"maui-standalone-1.1-SNAPSHOT.jar\", \n",
    "         \"test\", \"-l\",\"data/jobscanManualClean/train\", \"-m\",\"data/models/keyword_extraction_model\",\n",
    "           \"-v\",\"ACMTaxonomySkos.rdf\",\"-f\",\"skos\",\"-n\",\"30\"], stdout=PIPE, stderr=STDOUT)\n",
    "results={}\n",
    "for line in p.stdout:\n",
    "    if line.find(\"MauiTopicExtractor\")<>-1:\n",
    "        if line.find(\"Processing document\")<>-1:\n",
    "            #open a new doc\n",
    "            doc= line.split(\"Processing document: \")[-1].split(\"\\n\")[0]\n",
    "            kw={}\n",
    "        elif line.find(\"Topic \")<>-1:\n",
    "            key=line.split(\"Topic \")[-1].split( \" 1 \")[0]\n",
    "            value=line.split( \" 1 \")[-1].split(\" > \")[0]\n",
    "            kw[key]=value\n",
    "    results[doc]=kw"
   ]
  }
 ],
 "metadata": {
  "kernelspec": {
   "display_name": "Python 2",
   "language": "python",
   "name": "python2"
  },
  "language_info": {
   "codemirror_mode": {
    "name": "ipython",
    "version": 2
   },
   "file_extension": ".py",
   "mimetype": "text/x-python",
   "name": "python",
   "nbconvert_exporter": "python",
   "pygments_lexer": "ipython2",
   "version": "2.7.3"
  }
 },
 "nbformat": 4,
 "nbformat_minor": 0
}
