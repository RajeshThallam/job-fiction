{
 "cells": [
  {
   "cell_type": "markdown",
   "metadata": {},
   "source": [
    "## RAKE - Rapid Automatic Keyword Extraction"
   ]
  },
  {
   "cell_type": "code",
   "execution_count": 7,
   "metadata": {
    "collapsed": false
   },
   "outputs": [],
   "source": [
    "import rake\n",
    "import operator\n",
    "import unicodedata\n",
    "import string"
   ]
  },
  {
   "cell_type": "code",
   "execution_count": 13,
   "metadata": {
    "collapsed": true
   },
   "outputs": [],
   "source": [
    "def remove_accents(data):\n",
    "    return ''.join(x for x in unicodedata.normalize('NFKD', data) if x in string.ascii_letters or x in [' ', '\\n']).lower()"
   ]
  },
  {
   "cell_type": "code",
   "execution_count": 14,
   "metadata": {
    "collapsed": false
   },
   "outputs": [],
   "source": [
    "rake_object = rake.Rake(\"SmartStoplist.txt\")"
   ]
  },
  {
   "cell_type": "code",
   "execution_count": 15,
   "metadata": {
    "collapsed": false
   },
   "outputs": [
    {
     "name": "stdout",
     "output_type": "stream",
     "text": [
      "to name scan and file medical records in our emr eclinical works ecw as directed in order to maintain the organization of the departmentas daily operation back up inbound and outbound faxing needs mail drop off and collection and to foster medical pavilion post box as well as main hospital mail room  responsibilities  essential functions   demonstrates a commitment to the mission of swedish covenant hospital and  demonstrates a service orientation and adheres to all responsibilities and standards  of the hospital   names scans and files medical records into patient charts in ecw following accepted naming conventions and protocols on where various medical records are filed in the chart this is high volume work   works with incoming faxes as well as outgoing faxes ensuring they reach the appropriate provider or area following standardized protocols in the foster medical pavilion medical records department   helps to deliver incoming mail as well as outgoing mail whether taking to hospital main mail room or collecting mail from us post box in foster medical pavilion   answers incoming phones for medical records and constantly checks telephone encounters and voice mails addressing each in a timely and appropriate fashion following standard ecw guidelines  patient careage specific responsibilities and qualifications  na  qualificationsbasic job requirements  a  high school diploma or equivalent  a  numerical and alphabetical organization skills  a  accurate typing skills  a  accurate and detailoriented   ability to work as part of a small team assisting all providers and teams in fmp suite    and  with their medical record needs  job    operations support div  primary location    foster medical pavillion  organization    swedishcovenantmgmtservicesinc  shift  day  hours per week      job posting    feb    pm\n"
     ]
    }
   ],
   "source": [
    "with open('test.txt', 'r') as jobfile:\n",
    "    text = jobfile.read().decode(\"utf-8\")\n",
    "    text.encode(\"ascii\", \"replace\")\n",
    "    text= remove_accents(text)\n",
    "    text = text.replace('\\n', ' ')\n",
    "    print text"
   ]
  },
  {
   "cell_type": "code",
   "execution_count": 16,
   "metadata": {
    "collapsed": true
   },
   "outputs": [],
   "source": [
    "keywords = rake_object.run(text)"
   ]
  },
  {
   "cell_type": "code",
   "execution_count": 17,
   "metadata": {
    "collapsed": false
   },
   "outputs": [
    {
     "name": "stdout",
     "output_type": "stream",
     "text": [
      "(u'job    operations support div  primary location    foster medical pavillion  organization    swedishcovenantmgmtservicesinc  shift  day  hours', 167.1)\n",
      "(u'main hospital mail room  responsibilities  essential functions   demonstrates', 45.83333333333333)\n",
      "(u'standard ecw guidelines  patient careage specific responsibilities', 41.833333333333336)\n",
      "(u'foster medical pavilion medical records department   helps', 41.6)\n",
      "(u'foster medical pavilion   answers incoming phones', 34.766666666666666)\n",
      "(u'week      job posting    feb    pm', 28.0)\n",
      "(u'qualifications  na  qualificationsbasic job requirements', 28.0)\n",
      "(u'foster medical pavilion post box', 26.1)\n",
      "(u'hospital main mail room', 20.0)\n",
      "(u'emr eclinical works ecw', 16.0)\n",
      "(u'constantly checks telephone encounters', 16.0)\n",
      "(u'departmentas daily operation back', 16.0)\n",
      "(u'high volume work   works', 14.0)\n",
      "(u'alphabetical organization skills', 12.0)\n",
      "(u'files medical records', 11.5)\n",
      "(u'file medical records', 11.5)\n",
      "(u'hospital   names scans', 10.5)\n",
      "(u'swedish covenant hospital', 10.5)\n",
      "(u'deliver incoming mail', 10.166666666666666)\n",
      "(u'high school diploma', 9.5)\n",
      "(u'accepted naming conventions', 9.0)\n",
      "(u'voice mails addressing', 9.0)\n",
      "(u'small team assisting', 9.0)\n",
      "(u'medical records', 8.5)\n",
      "(u'accurate typing skills', 8.0)\n",
      "(u'outgoing faxes ensuring', 8.0)\n",
      "(u'medical record', 7.1)\n",
      "(u'post box', 7.0)\n",
      "(u'patient charts', 6.5)\n",
      "(u'incoming faxes', 6.166666666666666)\n",
      "(u'organization', 6.0)\n",
      "(u'outgoing mail', 6.0)\n",
      "(u'collecting mail', 5.5)\n",
      "(u'mail drop', 5.5)\n",
      "(u'responsibilities', 5.333333333333333)\n",
      "(u'demonstrates', 4.5)\n",
      "(u'fmp suite', 4.0)\n",
      "(u'service orientation', 4.0)\n",
      "(u'detailoriented   ability', 4.0)\n",
      "(u'ecw', 4.0)\n",
      "(u'outbound faxing', 4.0)\n",
      "(u'standardized protocols', 3.5)\n",
      "(u'work', 2.5)\n",
      "(u'accurate', 2.0)\n",
      "(u'protocols', 1.5)\n",
      "(u'scan', 1.0)\n",
      "(u'filed', 1.0)\n",
      "(u'mission', 1.0)\n",
      "(u'teams', 1.0)\n",
      "(u'providers', 1.0)\n",
      "(u'fashion', 1.0)\n",
      "(u'area', 1.0)\n",
      "(u'provider', 1.0)\n",
      "(u'equivalent', 1.0)\n",
      "(u'timely', 1.0)\n",
      "(u'inbound', 1.0)\n",
      "(u'numerical', 1.0)\n",
      "(u'reach', 1.0)\n",
      "(u'chart', 1.0)\n",
      "(u'commitment', 1.0)\n",
      "(u'collection', 1.0)\n",
      "(u'part', 1.0)\n",
      "(u'adheres', 1.0)\n",
      "(u'directed', 1.0)\n",
      "(u'taking', 1.0)\n",
      "(u'standards', 1.0)\n",
      "(u'maintain', 1.0)\n",
      "(u'order', 1.0)\n"
     ]
    }
   ],
   "source": [
    "for k in keywords:\n",
    "    print k"
   ]
  },
  {
   "cell_type": "code",
   "execution_count": 25,
   "metadata": {
    "collapsed": true
   },
   "outputs": [],
   "source": [
    "import preprocessing as pp\n",
    "import rake"
   ]
  },
  {
   "cell_type": "code",
   "execution_count": 26,
   "metadata": {
    "collapsed": true
   },
   "outputs": [],
   "source": [
    "with open('test.txt', 'r') as jobfile:\n",
    "    text = jobfile.read().decode(\"utf-8\")"
   ]
  },
  {
   "cell_type": "code",
   "execution_count": 27,
   "metadata": {
    "collapsed": false
   },
   "outputs": [],
   "source": [
    "t = pp.preprocess_pipeline(text, \"english\", False, True, False)"
   ]
  },
  {
   "cell_type": "code",
   "execution_count": 28,
   "metadata": {
    "collapsed": false
   },
   "outputs": [
    {
     "name": "stdout",
     "output_type": "stream",
     "text": [
      "to name scan and file medical records in our emr eclinical works ecw as directed in order to maintain the organization of the department s daily operation back up inbound and outbound faxing needs mail drop off and collection and to foster medical pavilion post box as well as main hospital mail room responsibilities essential functions demonstrates a commitment to the mission of swedish covenant hospital and demonstrates a service orientation and adheres to all responsibilities and standards of the hospital 1 names scans and files medical records into patient charts in ecw following accepted naming conventions and protocols on where various medical records are filed in the chart this is high volume work 2 works with incoming faxes as well as outgoing faxes ensuring they reach the appropriate provider or area following standardized protocols in the foster medical pavilion medical records department 3 helps to deliver incoming mail as well as outgoing mail whether taking to hospital main mail room or collecting mail from u s post box in foster medical pavilion 4 answers incoming phones for medical records and constantly checks telephone encounters and voice mails addressing each in a timely and appropriate fashion following standard ecw guidelines patient care age specific responsibilities and qualifications n a qualifications basic job requirements high school diploma or equivalent numerical and alphabetical organization skills accurate typing skills accurate and detail oriented ability to work as part of a small team assisting all providers and teams in fmp suite 601 602 603 and 604 with their medical record needs job operations support div 19 primary location foster medical pavillion organization swedish_covenant_mgmt_services_inc shift day hours per week 40 job posting feb 10 2016 4 56 03 pm\n"
     ]
    }
   ],
   "source": [
    "print t"
   ]
  },
  {
   "cell_type": "code",
   "execution_count": 29,
   "metadata": {
    "collapsed": false
   },
   "outputs": [],
   "source": [
    "rake_object = rake.Rake(\"SmartStoplist.txt\")"
   ]
  },
  {
   "cell_type": "code",
   "execution_count": 33,
   "metadata": {
    "collapsed": false
   },
   "outputs": [],
   "source": [
    "keywords = rake_object.run(t)"
   ]
  },
  {
   "cell_type": "code",
   "execution_count": 35,
   "metadata": {
    "collapsed": false
   },
   "outputs": [
    {
     "name": "stdout",
     "output_type": "stream",
     "text": [
      "(u'job operations support div 19 primary location foster medical pavillion organization swedish_covenant_mgmt_services_inc shift day hours', 169.09999999999997)\n",
      "(u'standard ecw guidelines patient care age specific responsibilities', 54.99999999999999)\n",
      "(u'alphabetical organization skills accurate typing skills accurate', 49.33333333333333)\n",
      "(u'main hospital mail room responsibilities essential functions demonstrates', 46.16666666666667)\n",
      "(u'qualifications basic job requirements high school diploma', 46.166666666666664)\n",
      "(u'foster medical pavilion medical records department 3 helps', 38.6)\n",
      "(u'foster medical pavilion 4 answers incoming phones', 34.766666666666666)\n",
      "(u'week 40 job posting feb 10 2016 4 56 03 pm', 28.666666666666664)\n",
      "(u'foster medical pavilion post box', 26.1)\n",
      "(u'hospital main mail room', 20.0)\n",
      "(u'emr eclinical works ecw', 16.333333333333332)\n",
      "(u'constantly checks telephone encounters', 16.0)\n",
      "(u'high volume work 2 works', 16.0)\n",
      "(u'files medical records', 11.5)\n",
      "(u'file medical records', 11.5)\n",
      "(u'hospital 1 names scans', 10.5)\n",
      "(u'swedish covenant hospital', 10.5)\n",
      "(u'deliver incoming mail', 10.166666666666666)\n",
      "(u'accepted naming conventions', 9.0)\n",
      "(u'detail oriented ability', 9.0)\n",
      "(u'small team assisting', 9.0)\n",
      "(u'daily operation back', 9.0)\n",
      "(u'voice mails addressing', 9.0)\n",
      "(u'medical records', 8.5)\n",
      "(u'outgoing faxes ensuring', 8.0)\n",
      "(u'organization', 7.333333333333333)\n",
      "(u'medical record', 7.1)\n",
      "(u'patient charts', 7.0)\n",
      "(u'post box', 7.0)\n",
      "(u'incoming faxes', 6.166666666666666)\n",
      "(u'outgoing mail', 6.0)\n",
      "(u'responsibilities', 5.666666666666667)\n",
      "(u'collecting mail', 5.5)\n",
      "(u'mail drop', 5.5)\n",
      "(u'demonstrates', 4.5)\n",
      "(u'ecw', 4.333333333333333)\n",
      "(u'fmp suite 601 602 603', 4.0)\n",
      "(u'equivalent numerical', 4.0)\n",
      "(u'department', 4.0)\n",
      "(u'service orientation', 4.0)\n",
      "(u'qualifications', 4.0)\n",
      "(u'outbound faxing', 4.0)\n",
      "(u'standardized protocols', 3.5)\n",
      "(u'work', 2.5)\n",
      "(u'protocols', 1.5)\n",
      "(u'scan', 1.0)\n",
      "(u'filed', 1.0)\n",
      "(u'commitment', 1.0)\n",
      "(u'fashion', 1.0)\n",
      "(u'timely', 1.0)\n",
      "(u'teams', 1.0)\n",
      "(u'area', 1.0)\n",
      "(u'providers', 1.0)\n",
      "(u'provider', 1.0)\n",
      "(u'inbound', 1.0)\n",
      "(u'reach', 1.0)\n",
      "(u'collection', 1.0)\n",
      "(u'mission', 1.0)\n",
      "(u'part', 1.0)\n",
      "(u'adheres', 1.0)\n",
      "(u'directed', 1.0)\n",
      "(u'chart', 1.0)\n",
      "(u'taking', 1.0)\n",
      "(u'standards', 1.0)\n",
      "(u'maintain', 1.0)\n",
      "(u'order', 1.0)\n",
      "(u'604', 0)\n"
     ]
    }
   ],
   "source": [
    "for k in keywords:\n",
    "    print k"
   ]
  },
  {
   "cell_type": "markdown",
   "metadata": {},
   "source": [
    "## LDA"
   ]
  },
  {
   "cell_type": "markdown",
   "metadata": {},
   "source": [
    "pip install nltk\n",
    "pip install stop-words\n",
    "pip install numpy\n",
    "pip install scipy\n",
    "pip install "
   ]
  },
  {
   "cell_type": "code",
   "execution_count": 4,
   "metadata": {
    "collapsed": true
   },
   "outputs": [],
   "source": [
    "doc_set = [ line.decode(\"utf-8\") for line in open('train.txt', 'r')]"
   ]
  },
  {
   "cell_type": "code",
   "execution_count": 7,
   "metadata": {
    "collapsed": false
   },
   "outputs": [
    {
     "data": {
      "text/plain": [
       "u\"Because moving is stressful, we seek candidates with a commitment to customer service and an appreciation for variety in your job!  What is the job?  Skillfully and carefully drive a moving vehicle (truck or van) to move customers\\xe2\\x80\\x99 possessions. Position requires a unique combination of general labor and problem solving skills with excellent customer service talents. You will be part of a moving crew that provides an exceptional service and experience. Movers are exposed to a variety of physical work in a dynamic environment.  What will you be doing?   When driving, you will make $13+ per hour (depending on experience) with growth potential into higher pay grades, warehouse, office or leadership positions Will earn tips in addition to the hourly wage! Perform general physical activities related to the handling/moving of objects: drive a moving truck between headquarters & various client locations lift and move heavy objects load, unload, or stack boxes/containers, furniture, or other products wrap furniture, electronics, appliances, other household goods Operate vehicles and/or moving equipment Will have a schedule designed to accommodate students/musicians/superheroes! Will work with a diverse group of move-jitsu trained ninjas!! Establish and maintaining interpersonal relationships  What physical movements/expectations can you anticipate?   Stamina to lift heavy items (100 lbs. or more) repeatedly while climbing, balancing, crouching, walking, etc. Regularly lifting 50 pounds independently Regularly standing and walking Frequent communicating: talking and listening Extreme mobility Climb and balance Stoop, kneel, crouch, or crawl; Use of hands to grasp, lift, balance and negotiate items into spaces Hand eye coordination; frequent use of spatial relations Reach with hands and arms  What will you need to do/be always to be successful?   Have a class C (or better) driver's license Clean MVR Driving experience Be healthy, well and physically fit High School Diploma or 2-year degree preferred Basic technology skills (email, internet, etc.) and cell phone with SMS capabilities required Be collaborative; work as a team and adjust your actions in relation to others' actions Be service oriented: Always look for ways to help people expressing positivity at all times Actively listen: Give full attention to what other people are saying, taking time to understand the points being made Ask questions when appropriate and not interrupt at inappropriate times Talk professionally to others to convey information effectively and professionally in English  Benefits!   Great coworkers who work hard and have a sense of humor Employee appreciation parties throughout the year (baseball games, holiday party, pig roast, etc.) Monthly meeting w/award ceremony, prizes, food & beer Being part of a growing, exciting company that values our employees and is well-loved by our clients  \\n\""
      ]
     },
     "execution_count": 7,
     "metadata": {},
     "output_type": "execute_result"
    }
   ],
   "source": [
    "doc_set[0]"
   ]
  },
  {
   "cell_type": "code",
   "execution_count": 10,
   "metadata": {
    "collapsed": true
   },
   "outputs": [],
   "source": []
  },
  {
   "cell_type": "code",
   "execution_count": 11,
   "metadata": {
    "collapsed": false
   },
   "outputs": [
    {
     "name": "stdout",
     "output_type": "stream",
     "text": [
      "[(0, u'0.039*driver + 0.029*truck + 0.027*pay + 0.022*dedic'), (1, u'0.018*driver + 0.011*oper + 0.011*year + 0.010*truck')]\n"
     ]
    }
   ],
   "source": [
    "from nltk.tokenize import RegexpTokenizer\n",
    "from stop_words import get_stop_words\n",
    "from nltk.stem.porter import PorterStemmer\n",
    "from gensim import corpora, models\n",
    "import gensim\n",
    "\n",
    "tokenizer = RegexpTokenizer(r'\\w+')\n",
    "\n",
    "# create english stop words list\n",
    "en_stop = get_stop_words('en')\n",
    "\n",
    "# create p_stemmer of class PorterStemmer\n",
    "p_stemmer = PorterStemmer()\n",
    "    \n",
    "# compile sample documents into a list\n",
    "doc_set = [ preprocess(line) for line in open('train.txt', 'r') ]\n",
    "\n",
    "# list for tokenized documents in loop\n",
    "texts = []\n",
    "\n",
    "# loop through document list\n",
    "for i in doc_set:\n",
    "    \n",
    "    # clean and tokenize document string\n",
    "    raw = i.lower()\n",
    "    tokens = tokenizer.tokenize(raw)\n",
    "\n",
    "    # remove stop words from tokens\n",
    "    stopped_tokens = [i for i in tokens if not i in en_stop]\n",
    "    \n",
    "    # stem tokens\n",
    "    stemmed_tokens = [p_stemmer.stem(i) for i in stopped_tokens]\n",
    "    \n",
    "    # add tokens to list\n",
    "    texts.append(stemmed_tokens)\n",
    "\n",
    "# turn our tokenized documents into a id <-> term dictionary\n",
    "dictionary = corpora.Dictionary(texts)\n",
    "    \n",
    "# convert tokenized documents into a document-term matrix\n",
    "corpus = [dictionary.doc2bow(text) for text in texts]\n",
    "\n",
    "# generate LDA model\n",
    "ldamodel = gensim.models.ldamodel.LdaModel(corpus, num_topics=2, id2word = dictionary, passes=20)\n",
    "print(ldamodel.print_topics(num_topics=2, num_words=4))"
   ]
  },
  {
   "cell_type": "code",
   "execution_count": 15,
   "metadata": {
    "collapsed": false
   },
   "outputs": [
    {
     "name": "stdout",
     "output_type": "stream",
     "text": [
      "[(0, u'0.039*driver + 0.029*truck + 0.027*pay + 0.022*dedic + 0.017*mile + 0.017*today + 0.015*crst + 0.015*servic + 0.015*call + 0.013*drive'), (1, u'0.018*driver + 0.011*oper + 0.011*year + 0.010*truck + 0.009*owner + 0.009*drive + 0.008*opportun + 0.008*compani + 0.007*program + 0.007*experi')]\n"
     ]
    }
   ],
   "source": [
    "print(ldamodel.print_topics(num_topics=100, num_words=10))"
   ]
  },
  {
   "cell_type": "markdown",
   "metadata": {},
   "source": [
    "#mongo JOBFICTION --quiet export_job_desc.js > export.txt\n",
    "scp root@job01:/root/dev/data/export.txt.gz .\n",
    "gunzip export.txt.gz\n",
    "head -1000 | awk -F'!@#' '{print $2}' > train.txt"
   ]
  }
 ],
 "metadata": {
  "kernelspec": {
   "display_name": "Python 2",
   "language": "python",
   "name": "python2"
  },
  "language_info": {
   "codemirror_mode": {
    "name": "ipython",
    "version": 2
   },
   "file_extension": ".py",
   "mimetype": "text/x-python",
   "name": "python",
   "nbconvert_exporter": "python",
   "pygments_lexer": "ipython2",
   "version": "2.7.6"
  }
 },
 "nbformat": 4,
 "nbformat_minor": 0
}
