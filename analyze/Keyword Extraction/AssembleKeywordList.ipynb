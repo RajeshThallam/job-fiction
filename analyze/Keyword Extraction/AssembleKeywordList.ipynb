{
 "cells": [
  {
   "cell_type": "code",
   "execution_count": 38,
   "metadata": {
    "collapsed": false
   },
   "outputs": [],
   "source": [
    "import glob\n",
    "import os,re,csv\n",
    "kw=[]\n",
    "for filename in glob.glob('data/jobscan/train/*.key'):\n",
    "    with open(filename) as f:\n",
    "        for line in f.readlines():\n",
    "            line.replace('\\n', '')\n",
    "            line = re.sub(r'\\n', '', line)\n",
    "            kw.append(line )  \n",
    "\n",
    "\n",
    "final=sorted(list(set(kw)))\n",
    "\n",
    "with open('KeywordsFromJobscan.csv', 'wb') as csvfile:\n",
    "    spamwriter = csv.writer(csvfile, delimiter='\\n')\n",
    "    spamwriter.writerow(final)\n"
   ]
  }
 ],
 "metadata": {
  "kernelspec": {
   "display_name": "Python 2",
   "language": "python",
   "name": "python2"
  },
  "language_info": {
   "codemirror_mode": {
    "name": "ipython",
    "version": 2
   },
   "file_extension": ".py",
   "mimetype": "text/x-python",
   "name": "python",
   "nbconvert_exporter": "python",
   "pygments_lexer": "ipython2",
   "version": "2.7.3"
  }
 },
 "nbformat": 4,
 "nbformat_minor": 0
}
