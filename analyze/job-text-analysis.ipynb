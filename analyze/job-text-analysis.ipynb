{
 "cells": [
  {
   "cell_type": "markdown",
   "metadata": {},
   "source": [
    "## Topic Modeling with Latent Dirichlet Allocation (LDA) - gensim package"
   ]
  },
  {
   "cell_type": "markdown",
   "metadata": {},
   "source": [
    "### 1. Export data from JOBFICTION database"
   ]
  },
  {
   "cell_type": "markdown",
   "metadata": {},
   "source": [
    "Let's extract jobs where job title has driver in it. Ideally, all job posts must be classified into multiple categories using K-Means or other unsupervised classification/clustering algorithms."
   ]
  },
  {
   "cell_type": "markdown",
   "metadata": {},
   "source": [
    "In the jobs table, job desription is an array of sentences. In order to export job description, this mongo javasript will be run to combine array elements as a string. For traceback we will add __id field to every record."
   ]
  },
  {
   "cell_type": "code",
   "execution_count": 12,
   "metadata": {
    "collapsed": false
   },
   "outputs": [
    {
     "name": "stdout",
     "output_type": "stream",
     "text": [
      "Overwriting export_job_desc.js\n"
     ]
    }
   ],
   "source": [
    "%%writefile export_job_desc.js\n",
    "db.jobs.find( { \"jobtitle\" : /driver/i }, { _id: 1, summary: 1}).forEach( function (x) \n",
    "    {     \n",
    "        var jobdesc = '';\n",
    "        x.summary.forEach( function (y) { \n",
    "            jobdesc += y.replace(/\\n/g, ' '); \n",
    "        });     \n",
    "        print(x._id + \"!@#\" +jobdesc);\n",
    "    });"
   ]
  },
  {
   "cell_type": "code",
   "execution_count": 13,
   "metadata": {
    "collapsed": false
   },
   "outputs": [
    {
     "name": "stdout",
     "output_type": "stream",
     "text": [
      "mkdir: cannot create directory ‘./data’: File exists\r\n"
     ]
    }
   ],
   "source": [
    "!mkdir ./data"
   ]
  },
  {
   "cell_type": "markdown",
   "metadata": {},
   "source": [
    "** Run export script to dump data to text file **"
   ]
  },
  {
   "cell_type": "code",
   "execution_count": 14,
   "metadata": {
    "collapsed": false
   },
   "outputs": [
    {
     "name": "stdout",
     "output_type": "stream",
     "text": [
      "\r\n",
      "real\t0m7.431s\r\n",
      "user\t0m4.135s\r\n",
      "sys\t0m0.640s\r\n"
     ]
    }
   ],
   "source": [
    "!time mongo JOBFICTION --quiet export_job_desc.js > ./data/export.txt"
   ]
  },
  {
   "cell_type": "code",
   "execution_count": 16,
   "metadata": {
    "collapsed": false
   },
   "outputs": [
    {
     "name": "stdout",
     "output_type": "stream",
     "text": [
      "62204 ./data/export.txt\n",
      "indeed_65ec17d9c2a5ce01!@#Because moving is stressful, we seek candidates with a commitment to customer service and an appreciation for variety in your job!  What is the job?  Skillfully and carefully drive a moving vehicle (truck or van) to move customersâ possessions. Position requires a unique combination of general labor and problem solving skills with excellent customer service talents. You will be part of a moving crew that provides an exceptional service and experience. Movers are exposed to a variety of physical work in a dynamic environment.  What will you be doing?   When driving, you will make $13+ per hour (depending on experience) with growth potential into higher pay grades, warehouse, office or leadership positions Will earn tips in addition to the hourly wage! Perform general physical activities related to the handling/moving of objects: drive a moving truck between headquarters & various client locations lift and move heavy objects load, unload, or stack boxes/containers, furniture, or other products wrap furniture, electronics, appliances, other household goods Operate vehicles and/or moving equipment Will have a schedule designed to accommodate students/musicians/superheroes! Will work with a diverse group of move-jitsu trained ninjas!! Establish and maintaining interpersonal relationships  What physical movements/expectations can you anticipate?   Stamina to lift heavy items (100 lbs. or more) repeatedly while climbing, balancing, crouching, walking, etc. Regularly lifting 50 pounds independently Regularly standing and walking Frequent communicating: talking and listening Extreme mobility Climb and balance Stoop, kneel, crouch, or crawl; Use of hands to grasp, lift, balance and negotiate items into spaces Hand eye coordination; frequent use of spatial relations Reach with hands and arms  What will you need to do/be always to be successful?   Have a class C (or better) driver's license Clean MVR Driving experience Be healthy, well and physically fit High School Diploma or 2-year degree preferred Basic technology skills (email, internet, etc.) and cell phone with SMS capabilities required Be collaborative; work as a team and adjust your actions in relation to others' actions Be service oriented: Always look for ways to help people expressing positivity at all times Actively listen: Give full attention to what other people are saying, taking time to understand the points being made Ask questions when appropriate and not interrupt at inappropriate times Talk professionally to others to convey information effectively and professionally in English  Benefits!   Great coworkers who work hard and have a sense of humor Employee appreciation parties throughout the year (baseball games, holiday party, pig roast, etc.) Monthly meeting w/award ceremony, prizes, food & beer Being part of a growing, exciting company that values our employees and is well-loved by our clients  \n"
     ]
    }
   ],
   "source": [
    "!wc -l ./data/export.txt\n",
    "!head -1 ./data/export.txt"
   ]
  },
  {
   "cell_type": "markdown",
   "metadata": {},
   "source": [
    "### 2. Create training data set"
   ]
  },
  {
   "cell_type": "markdown",
   "metadata": {},
   "source": [
    "We will just export top 10000 job descriptions (remember it's only driver related job posts) and let's build LDA model. Once LDA model is built, we will perform online training for new job posts and keep updating corpus."
   ]
  },
  {
   "cell_type": "code",
   "execution_count": 18,
   "metadata": {
    "collapsed": false
   },
   "outputs": [],
   "source": [
    "!head -10000 ./data/export.txt | awk -F'!@#' '{print $2}' > ./data/train.txt"
   ]
  },
  {
   "cell_type": "markdown",
   "metadata": {},
   "source": [
    "### 3. Train LDA Model"
   ]
  },
  {
   "cell_type": "markdown",
   "metadata": {},
   "source": [
    "** *Layman's Explanation of LDA* **\n",
    "\n",
    "Ref: https://www.quora.com/What-is-a-good-explanation-of-Latent-Dirichlet-Allocation\n",
    "\n",
    "Suppose you've just moved to a new city. You're a hipster and an anime fan, so you want to know where the other hipsters and anime geeks tend to hang out. Of course, as a hipster, you know you can't just ask, so what do you do?\n",
    "\n",
    "Here's the scenario: you scope out a bunch of different establishments (documents) across town, making note of the people (words) hanging out in each of them (e.g., Alice hangs out at the mall and at the park, Bob hangs out at the movie theater and the park, and so on). Crucially, you don't know the typical interest groups (topics) of each establishment, nor do you know the different interests of each person.\n",
    "\n",
    "So you pick some number K of categories to learn (i.e., you want to learn the K most important kinds of categories people fall into), and start by making a guess as to why you see people where you do. For example, you initially guess that Alice is at the mall because people with interests in X like to hang out there; when you see her at the park, you guess it's because her friends with interests in Y like to hang out there; when you see Bob at the movie theater, you randomly guess it's because the Z people in this city really like to watch movies; and so on.\n",
    "\n",
    "Of course, your random guesses are very likely to be incorrect (they're random guesses, after all!), so you want to improve on them. One way of doing so is to:\n",
    "\n",
    "- Pick a place and a person (e.g., Alice at the mall).\n",
    "- Why is Alice likely to be at the mall? Probably because other people at the mall with the same interests sent her a message telling her to come.\n",
    "- In other words, the more people with interests in X there are at the mall and the stronger Alice is associated with interest X (at all the other places she goes to), the more likely it is that Alice is at the mall because of interest X.\n",
    "- So make a new guess as to why Alice is at the mall, choosing an interest with some probability according to how likely you think it is.\n",
    "\n",
    "\n",
    "Go through each place and person over and over again. Your guesses keep getting better and better (after all, if you notice that lots of geeks hang out at the bookstore, and you suspect that Alice is pretty geeky herself, then it's a good bet that Alice is at the bookstore because her geek friends told her to go there; and now that you have a better idea of why Alice is probably at the bookstore, you can use this knowledge in turn to improve your guesses as to why everyone else is where they are), and so eventually you can stop updating. Then take a snapshot (or multiple snapshots) of your guesses, and use it to get all the information you want:\n",
    "\n",
    "- For each category, you can count the people assigned to that category to figure out what people have this particular interest. By looking at the people themselves, you can interpret the category as well (e.g., if category X contains lots of tall people wearing jerseys and carrying around basketballs, you might interpret X as the \"basketball players\" group).\n",
    "- For each place P and interest category C, you can compute the proportions of people at P because of C (under the current set of assignments), and these give you a representation of P. For example, you might learn that the people who hang out at Barnes & Noble consist of 10% hipsters, 50% anime fans, 10% jocks, and 30% college students."
   ]
  },
  {
   "cell_type": "code",
   "execution_count": 20,
   "metadata": {
    "collapsed": false
   },
   "outputs": [
    {
     "name": "stdout",
     "output_type": "stream",
     "text": [
      "[(0, u'0.014*requir + 0.014*custom + 0.012*work + 0.011*must + 0.010*driver + 0.009*deliveri + 0.009*job + 0.008*abil + 0.007*s + 0.007*time'), (1, u'0.040*driver + 0.038*pay + 0.032*truck + 0.019*offer + 0.019*transport + 0.017*paid + 0.017*compani + 0.016*weekli + 0.016*drive + 0.015*cpm'), (2, u'0.037*driver + 0.017*team + 0.016*year + 0.014*truck + 0.014*per + 0.014*mile + 0.011*paid + 0.010*compani + 0.010*000 + 0.009*pay'), (3, u'0.040*truck + 0.035*driver + 0.019*pay + 0.018*roehl + 0.015*ll + 0.014*get + 0.013*drive + 0.013*home + 0.013*cdl + 0.013*train'), (4, u'0.021*haul + 0.020*oper + 0.018*owner + 0.015*move + 0.015*graebel + 0.014*high + 0.014*ca + 0.011*revenu + 0.011*long + 0.011*opportun'), (5, u'0.022*oper + 0.020*owner + 0.018*program + 0.016*knight + 0.015*driver + 0.015*year + 0.014*fuel + 0.013*truck + 0.013*leas + 0.011*busi'), (6, u'0.045*driver + 0.041*pay + 0.026*mile + 0.024*barr + 0.024*nunn + 0.021*per + 0.019*truck + 0.018*cdl + 0.018*benefit + 0.017*hire'), (7, u'0.032*driver + 0.020*drive + 0.017*compani + 0.014*hazmat + 0.014*year + 0.013*benefit + 0.013*truck + 0.013*class + 0.013*polici + 0.012*cdl'), (8, u'0.023*year + 0.019*driver + 0.016*cdl + 0.015*month + 0.015*class + 0.015*call + 0.013*drive + 0.013*home + 0.012*3 + 0.012*pay'), (9, u'0.036*driver + 0.022*pay + 0.018*compani + 0.016*flatb + 0.014*offer + 0.013*s + 0.012*now + 0.012*werner + 0.012*benefit + 0.012*opportun')]\n"
     ]
    }
   ],
   "source": [
    "from nltk.tokenize import RegexpTokenizer\n",
    "from stop_words import get_stop_words\n",
    "from nltk.stem.porter import PorterStemmer\n",
    "from gensim import corpora, models\n",
    "import gensim\n",
    "\n",
    "def preprocess(text):\n",
    "    return text.replace('/', ' ').replace('\\\\', ' ').replace('_', ' ').replace('-', ' ').decode(\"utf-8\")\n",
    "\n",
    "tokenizer = RegexpTokenizer(r'\\w+')\n",
    "\n",
    "# create english stop words list\n",
    "en_stop = get_stop_words('en')\n",
    "\n",
    "# create p_stemmer of class PorterStemmer\n",
    "p_stemmer = PorterStemmer()\n",
    "    \n",
    "# compile sample documents into a list\n",
    "doc_set = [ preprocess(line) for line in open('./data/train.txt', 'r') ]\n",
    "\n",
    "# list for tokenized documents in loop\n",
    "texts = []\n",
    "\n",
    "# loop through document list\n",
    "for i in doc_set:\n",
    "    \n",
    "    # clean and tokenize document string\n",
    "    raw = i.lower()\n",
    "    tokens = tokenizer.tokenize(raw)\n",
    "\n",
    "    # remove stop words from tokens\n",
    "    stopped_tokens = [i for i in tokens if not i in en_stop]\n",
    "    \n",
    "    # stem tokens\n",
    "    stemmed_tokens = [p_stemmer.stem(i) for i in stopped_tokens]\n",
    "    \n",
    "    # add tokens to list\n",
    "    texts.append(stemmed_tokens)\n",
    "\n",
    "# turn our tokenized documents into a id <-> term dictionary\n",
    "dictionary = corpora.Dictionary(texts)\n",
    "    \n",
    "# convert tokenized documents into a document-term matrix\n",
    "corpus = [dictionary.doc2bow(text) for text in texts]\n",
    "\n",
    "# generate LDA model\n",
    "ldamodel = gensim.models.ldamodel.LdaModel(corpus, num_topics=10, id2word = dictionary, passes=20)\n"
   ]
  },
  {
   "cell_type": "code",
   "execution_count": 23,
   "metadata": {
    "collapsed": false
   },
   "outputs": [
    {
     "name": "stdout",
     "output_type": "stream",
     "text": [
      "0 0.014*requir + 0.014*custom + 0.012*work + 0.011*must + 0.010*driver\n",
      "1 0.040*driver + 0.038*pay + 0.032*truck + 0.019*offer + 0.019*transport\n",
      "2 0.037*driver + 0.017*team + 0.016*year + 0.014*truck + 0.014*per\n",
      "3 0.040*truck + 0.035*driver + 0.019*pay + 0.018*roehl + 0.015*ll\n",
      "4 0.021*haul + 0.020*oper + 0.018*owner + 0.015*move + 0.015*graebel\n",
      "5 0.022*oper + 0.020*owner + 0.018*program + 0.016*knight + 0.015*driver\n",
      "6 0.045*driver + 0.041*pay + 0.026*mile + 0.024*barr + 0.024*nunn\n",
      "7 0.032*driver + 0.020*drive + 0.017*compani + 0.014*hazmat + 0.014*year\n",
      "8 0.023*year + 0.019*driver + 0.016*cdl + 0.015*month + 0.015*class\n",
      "9 0.036*driver + 0.022*pay + 0.018*compani + 0.016*flatb + 0.014*offer\n"
     ]
    }
   ],
   "source": [
    "for topic, keywords in ldamodel.print_topics(num_topics=10, num_words=5):\n",
    "    print topic, keywords"
   ]
  },
  {
   "cell_type": "markdown",
   "metadata": {},
   "source": [
    "### 4. Let's TEST the LDA model with new job description"
   ]
  },
  {
   "cell_type": "code",
   "execution_count": 26,
   "metadata": {
    "collapsed": false
   },
   "outputs": [
    {
     "name": "stdout",
     "output_type": "stream",
     "text": [
      "Now Hiring Company Truck Drivers. At Transport America We Raised Pay!  Company Truck Driver Benefits: Top 10% Industry Pay Year-Round Steady Freight Performance Pay - Experienced Drivers Earn Top Scale in 2 Years Flexible Home Time, Including Get Home Certificates 24/7 Support, 365 Days A Year Pick Your Schedule Option Lease Purchase Options Day 1 Medical/Dental/Vision/Disability Benefits Package Transfer Opportunities Available E-Logs and an InCab Communication Hub Roll Stability and OnGuard System CSA Safe Carrier New Fleet of Equipment- New Kenworths In Delivery  At Transport America, our goal is to deliver excellence in all that we do. At a time when others are moving to asset lite models, we are committed to running assets in networks, which gives you reliable capacity with an excellence of service unsurpassed in the transportation industry. We are big enough to create meaningful solutions, but small enough to provide you the level of customer service you deserve. We believe in hiring the best truck drivers in the industry and empower them to create solutions for our customers. Because of our asset intensity, we attract and retain the best drivers in the trucking industry. The technology we employ is focused on enhancing your service experience. Our experienced driver base, with retention levels well above the industry average, sets us apart from our competitors. Transport America's fleet of company truck drivers is the best and most experienced on the road. We welcome you to fill out the form above to be contacted by one of our recruiters! Call us for details at 877-957-3117\r\n"
     ]
    }
   ],
   "source": [
    "!tail -1 ./data/export.txt | awk -F'!@#' '{print $2}' > ./data/test.txt\n",
    "!cat ./data/test.txt"
   ]
  },
  {
   "cell_type": "code",
   "execution_count": 51,
   "metadata": {
    "collapsed": true
   },
   "outputs": [],
   "source": [
    "# compile sample documents into a list\n",
    "test_set = [ preprocess(line) for line in open('./data/test.txt', 'r') ]\n",
    "\n",
    "# list for tokenized documents in loop\n",
    "texts = []\n",
    "\n",
    "# loop through document list\n",
    "for i in test_set:\n",
    "    \n",
    "    # clean and tokenize document string\n",
    "    raw = i.lower()\n",
    "    tokens = tokenizer.tokenize(raw)\n",
    "\n",
    "    # remove stop words from tokens\n",
    "    stopped_tokens = [i for i in tokens if not i in en_stop]\n",
    "    \n",
    "    # stem tokens\n",
    "    stemmed_tokens = [p_stemmer.stem(i) for i in stopped_tokens]\n",
    "    \n",
    "    # add tokens to list\n",
    "    texts.append(stemmed_tokens)\n",
    "\n",
    "# turn our tokenized documents into a id <-> term dictionary\n",
    "dictionary = corpora.Dictionary(texts)\n",
    "    \n",
    "# convert tokenized documents into a document-term matrix\n",
    "bow = [dictionary.doc2bow(text) for text in texts]"
   ]
  },
  {
   "cell_type": "markdown",
   "metadata": {},
   "source": [
    "** Let's print topics from the model **"
   ]
  },
  {
   "cell_type": "code",
   "execution_count": 57,
   "metadata": {
    "collapsed": false
   },
   "outputs": [
    {
     "name": "stdout",
     "output_type": "stream",
     "text": [
      "0 0.014*requir + 0.014*custom + 0.012*work + 0.011*must + 0.010*driver\n",
      "1 0.040*driver + 0.038*pay + 0.032*truck + 0.019*offer + 0.019*transport\n",
      "2 0.037*driver + 0.017*team + 0.016*year + 0.014*truck + 0.014*per\n",
      "3 0.040*truck + 0.035*driver + 0.019*pay + 0.018*roehl + 0.015*ll\n",
      "4 0.021*haul + 0.020*oper + 0.018*owner + 0.015*move + 0.015*graebel\n",
      "5 0.022*oper + 0.020*owner + 0.018*program + 0.016*knight + 0.015*driver\n",
      "6 0.045*driver + 0.041*pay + 0.026*mile + 0.024*barr + 0.024*nunn\n",
      "7 0.032*driver + 0.020*drive + 0.017*compani + 0.014*hazmat + 0.014*year\n",
      "8 0.023*year + 0.019*driver + 0.016*cdl + 0.015*month + 0.015*class\n",
      "9 0.036*driver + 0.022*pay + 0.018*compani + 0.016*flatb + 0.014*offer\n"
     ]
    }
   ],
   "source": [
    "for topic, keywords in ldamodel.print_topics(num_topics=10, num_words=5):\n",
    "    print topic, keywords"
   ]
  },
  {
   "cell_type": "markdown",
   "metadata": {},
   "source": [
    "** Let's see what topis test document belongs to **"
   ]
  },
  {
   "cell_type": "code",
   "execution_count": 56,
   "metadata": {
    "collapsed": false
   },
   "outputs": [
    {
     "name": "stdout",
     "output_type": "stream",
     "text": [
      "[(0, 0.85813606763953532), (2, 0.038124342565039944), (3, 0.052171292370160209), (7, 0.011156941430638388), (9, 0.03004651314823252)]\n"
     ]
    }
   ],
   "source": [
    "for topics in ldamodel[bow]:\n",
    "    print topics"
   ]
  },
  {
   "cell_type": "markdown",
   "metadata": {},
   "source": [
    "** So the test document belongs to topics 0, 2, 3, 7 and 9 **"
   ]
  },
  {
   "cell_type": "code",
   "execution_count": 58,
   "metadata": {
    "collapsed": false
   },
   "outputs": [
    {
     "name": "stdout",
     "output_type": "stream",
     "text": [
      "[u\"Now Hiring Company Truck Drivers. At Transport America We Raised Pay!  Company Truck Driver Benefits: Top 10% Industry Pay Year Round Steady Freight Performance Pay   Experienced Drivers Earn Top Scale in 2 Years Flexible Home Time, Including Get Home Certificates 24 7 Support, 365 Days A Year Pick Your Schedule Option Lease Purchase Options Day 1 Medical Dental Vision Disability Benefits Package Transfer Opportunities Available E Logs and an InCab Communication Hub Roll Stability and OnGuard System CSA Safe Carrier New Fleet of Equipment  New Kenworths In Delivery  At Transport America, our goal is to deliver excellence in all that we do. At a time when others are moving to asset lite models, we are committed to running assets in networks, which gives you reliable capacity with an excellence of service unsurpassed in the transportation industry. We are big enough to create meaningful solutions, but small enough to provide you the level of customer service you deserve. We believe in hiring the best truck drivers in the industry and empower them to create solutions for our customers. Because of our asset intensity, we attract and retain the best drivers in the trucking industry. The technology we employ is focused on enhancing your service experience. Our experienced driver base, with retention levels well above the industry average, sets us apart from our competitors. Transport America's fleet of company truck drivers is the best and most experienced on the road. We welcome you to fill out the form above to be contacted by one of our recruiters! Call us for details at 877 957 3117\\n\"]\n"
     ]
    }
   ],
   "source": [
    "print test_set"
   ]
  }
 ],
 "metadata": {
  "kernelspec": {
   "display_name": "Python 2",
   "language": "python",
   "name": "python2"
  },
  "language_info": {
   "codemirror_mode": {
    "name": "ipython",
    "version": 2
   },
   "file_extension": ".py",
   "mimetype": "text/x-python",
   "name": "python",
   "nbconvert_exporter": "python",
   "pygments_lexer": "ipython2",
   "version": "2.7.5"
  }
 },
 "nbformat": 4,
 "nbformat_minor": 0
}
